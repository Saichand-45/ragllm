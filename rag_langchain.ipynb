{
 "cells": [
  {
   "cell_type": "code",
   "execution_count": 6,
   "metadata": {},
   "outputs": [
    {
     "data": {
      "text/plain": [
       "True"
      ]
     },
     "execution_count": 6,
     "metadata": {},
     "output_type": "execute_result"
    }
   ],
   "source": [
    "import os\n",
    "import dotenv\n",
    "from pathlib import Path\n",
    "\n",
    "from langchain_core.messages import AIMessage, HumanMessage\n",
    "from langchain_community.document_loaders.text import TextLoader\n",
    "from langchain_community.document_loaders import (\n",
    "    WebBaseLoader, \n",
    "    PyPDFLoader, \n",
    "    Docx2txtLoader,\n",
    ")\n",
    "from langchain_community.vectorstores import Chroma\n",
    "from langchain.text_splitter import RecursiveCharacterTextSplitter\n",
    "from langchain_openai import OpenAIEmbeddings, ChatOpenAI\n",
    "from langchain_anthropic import ChatAnthropic\n",
    "from langchain_core.prompts import ChatPromptTemplate, MessagesPlaceholder\n",
    "from langchain.chains import create_history_aware_retriever, create_retrieval_chain\n",
    "from langchain.chains.combine_documents import create_stuff_documents_chain\n",
    "\n",
    "dotenv.load_dotenv()"
   ]
  },
  {
   "cell_type": "code",
   "execution_count": 2,
   "metadata": {},
   "outputs": [],
   "source": [
    "# Load docs\n",
    "\n",
    "doc_paths = [\n",
    "    \"docs/test_rag.pdf\",\n",
    "    \"docs/test_rag.docx\",\n",
    "]\n",
    "\n",
    "docs = [] \n",
    "for doc_file in doc_paths:\n",
    "    file_path = Path(doc_file)\n",
    "\n",
    "    try:\n",
    "        if doc_file.endswith(\".pdf\"):\n",
    "            loader = PyPDFLoader(file_path)\n",
    "        elif doc_file.endswith(\".docx\"):\n",
    "            loader = Docx2txtLoader(file_path)\n",
    "        elif doc_file.endswith(\".txt\") or doc_file.name.endswith(\".md\"):\n",
    "            loader = TextLoader(file_path)\n",
    "        else:\n",
    "            print(f\"Document type {doc_file.type} not supported.\")\n",
    "            continue\n",
    "\n",
    "        docs.extend(loader.load())\n",
    "\n",
    "    except Exception as e:\n",
    "        print(f\"Error loading document {doc_file.name}: {e}\")\n",
    "\n",
    "\n",
    "# Load URLs\n",
    "\n",
    "url = \"https://docs.streamlit.io/develop/quick-reference/release-notes\"\n",
    "try:\n",
    "    loader = WebBaseLoader(url)\n",
    "    docs.extend(loader.load())\n",
    "\n",
    "except Exception as e:\n",
    "    print(f\"Error loading document from {url}: {e}\")"
   ]
  },
  {
   "cell_type": "code",
   "execution_count": 3,
   "metadata": {},
   "outputs": [
    {
     "data": {
      "text/plain": [
       "[Document(metadata={'source': 'docs\\\\test_rag.pdf', 'page': 0}, page_content='My favorite food is margarita pizza.  \\nThere are 47588 bottles in the tr uck.  '),\n",
       " Document(metadata={'source': 'docs\\\\test_rag.docx'}, page_content='My favorite food is margarita pizza.\\n\\nThere are 47588 bottles in the truck.'),\n",
       " Document(metadata={'source': 'https://docs.streamlit.io/develop/quick-reference/release-notes', 'title': 'Release notes - Streamlit Docs', 'description': 'A changelog of highlights and fixes for each version of Streamlit.', 'language': 'No language found.'}, page_content='Release notes - Streamlit DocsDocumentationsearchSearchrocket_launchGet startedInstallationaddFundamentalsaddFirst stepsaddcodeDevelopConceptsaddAPI referenceaddTutorialsaddQuick referenceremoveCheat sheetRelease notesremove202420232022202120202019Pre-release featuresRoadmapopen_in_newweb_assetDeployConceptsaddStreamlit Community CloudaddSnowflakeOther platformsaddschoolKnowledge baseFAQInstalling dependenciesDeployment issuesHome/Develop/Quick reference/Release notesRelease notes\\nThis page lists highlights, bug fixes, and known issues for the latest release of Streamlit. If you\\'re looking for information about nightly releases or experimental features, see Pre-release features.\\nUpgrade Streamlit\\nstarTipTo upgrade to the latest version of Streamlit, run:pip install --upgrade streamlit\\n\\nVersion 1.41.0 (latest)\\nRelease date: December 10, 2024\\nNotable Changes\\n\\n🔲 st.metric and st.columns have a parameter to show an optional border (#9927, #9928).\\n🎨\\xa0Text and background color in Markdown can use the \"primary\" color from the theme.primaryColor configuration option (#9676).\\n🥶\\xa0You can freeze columns with column configuration to make them always visible when scrolling horizontally (#9535, #7078).\\n3️⃣ The type parameter for buttons accepts a new option, \"tertiary\" (#9923).\\n🚶\\u200d♂️\\xa0Streamlit supports pathlib.Path objects everywhere you can use a string path (#9711, #9783).\\n⏱️\\xa0st.date_input and st.time_input accept ISO formatted strings for initial values (#9753).\\n💬\\xa0st.write_stream accepts async generators, which it converts internally to sync generators (#8724, #8161).\\n🪵 The client.showErrorDetails configuration option has additional values to show or hide more information (#9909).\\n🔎\\xa0When Streamlit shows stack traces in the app for uncaught exceptions, internal code is omitted or reduced for easier debugging (#9913).\\n📈\\xa0st.line_chart shows tooltips for the nearest point on hover (#9674).\\n🌐\\xa0st.html will attempt to convert non-string objects with ._repr_html_() before falling back to str() (#9877).\\n🐍\\xa0Streamlit supports Python 3.13 and no longer supports Python 3.8 (#9635).\\n\\nOther Changes\\n\\n🔣 Material Symbols have been updated with the latest icons (#9813, #9810).\\n👽\\xa0Streamlit supports Watchdog version 6 (#9785). Thanks, RubenVanEldik.\\n🌀\\xa0Bug fix: Streamlit only shows cached function spinners on cache misses and doesn\\'t show spinners for nested cached functions (#9956, #9951).\\n🔈\\xa0Bug fix: Streamlit\\'s audio buffer handles channels better to correctly play audio recordings in Firefox (#9885, #9799).\\n🦊\\xa0Bug fix: URL patterns are matched correctly to allow Community Cloud developer tools to display correctly in Firefox (#9849, #9848).\\n☠️\\xa0Bug fix: Corrected a performance and alignment problem with containers (#9901, #9456, #9560).\\n👻\\xa0Bug fix: st.rerun will raise an error if an invalid scope is passed to it (#9911, #9908).\\n🦋\\xa0Bug fix: Dataframe toolbars show correctly in dialogs (#9897, #9461).\\n🦀\\xa0Bug fix: LinkColumn regex for display_text uses the correct URI decoding (#9895, #9893).\\n🦎\\xa0Bug fix: st.dataframe has correct type hinting when on_selection=\"ignore\" (#9898, #9669).\\n🐌\\xa0Bug fix: Padding is applied consistently for wide and centered layout mode (#9882, #9707).\\n🕸️\\xa0Bug fix: st.graphviz_chart is displayed correctly when use_container_width=True (#9867, #9866).\\n🦗\\xa0Bug fix: The overloaded definitions of st.pills and st.segmented_control use the correct selection-mode default (#9801). Thanks, RubenVanEldik!\\n🦂\\xa0Bug fix: st.text_area (and other widgets) are correctly submitted in a form when using Ctrl+Enter (#9847, #9841).\\n🦟\\xa0Bug Fix: st.write renders DeltaGenerator objects with st.help (#9828, #9827).\\n🦠\\xa0Bug fix: st.text_area correctly matches the value in Session State when used with a key (#9829, #9825).\\n🪰\\xa0Bug fix: st.text_input does not trigger a rerun when a user submits an unchanged value (#9826).\\n🪳\\xa0Bug fix: Improved styling for st.exception to fix overflow and incorrect padding (#9818, #9817, #9816).\\n🕷️\\xa0Bug fix: Large dataframe don\\'t overflow and cover the dataframe toolbar in fullscreen mode (#9803, #9798).\\n🐞\\xa0Bug fix: st.audio_input shows the correct time on recording in time zones with a half-hour offset (#9791, #9631).\\n🐝\\xa0Bug fix: In iOS, st.number_input shows a number pad instead of a keyboard when in focus (#9766, #9763).\\n🐜\\xa0Bug fix: Widget keys containing hyphens are correctly added to HTML classes in the DOM with an\\xa0st-key- prefix (#9793).\\n🪲\\xa0Bug fix: Audio files created by st.audio_input include a timestamp to ensure unique file names (#9768).\\n🐛\\xa0Bug fix: Double slash URL pathnames do not create a 301 redirect (#9754, #9690).\\n\\nOlder versions of Streamlit\\n\\n2024 release notes\\n2023 release notes\\n2022 release notes\\n2021 release notes\\n2020 release notes\\n2019 release notes\\nPrevious: Cheat sheetNext: 2024forumStill have questions?Our forums are full of helpful information and Streamlit experts.HomeContact UsCommunity© 2024 Snowflake Inc.Cookie policyforum Ask AI')]"
      ]
     },
     "execution_count": 3,
     "metadata": {},
     "output_type": "execute_result"
    }
   ],
   "source": [
    "docs"
   ]
  },
  {
   "cell_type": "code",
   "execution_count": 4,
   "metadata": {},
   "outputs": [],
   "source": [
    "# Split docs\n",
    "\n",
    "text_splitter = RecursiveCharacterTextSplitter(\n",
    "    chunk_size=5000,\n",
    "    chunk_overlap=1000,\n",
    ")\n",
    "\n",
    "document_chunks = text_splitter.split_documents(docs)"
   ]
  },
  {
   "cell_type": "code",
   "execution_count": 7,
   "metadata": {},
   "outputs": [],
   "source": [
    "# Tokenize and load the documents to the vector store\n",
    "\n",
    "vector_db = Chroma.from_documents(\n",
    "    documents=document_chunks,\n",
    "    embedding=OpenAIEmbeddings(),\n",
    ")"
   ]
  },
  {
   "cell_type": "code",
   "execution_count": 8,
   "metadata": {},
   "outputs": [],
   "source": [
    "# Retrieve\n",
    "\n",
    "def _get_context_retriever_chain(vector_db, llm):\n",
    "    retriever = vector_db.as_retriever()\n",
    "    prompt = ChatPromptTemplate.from_messages([\n",
    "        MessagesPlaceholder(variable_name=\"messages\"),\n",
    "        (\"user\", \"{input}\"),\n",
    "        (\"user\", \"Given the above conversation, generate a search query to look up in order to get inforamtion relevant to the conversation, focusing on the most recent messages.\"),\n",
    "    ])\n",
    "    retriever_chain = create_history_aware_retriever(llm, retriever, prompt)\n",
    "\n",
    "    return retriever_chain"
   ]
  },
  {
   "cell_type": "code",
   "execution_count": 9,
   "metadata": {},
   "outputs": [],
   "source": [
    "def get_conversational_rag_chain(llm):\n",
    "    retriever_chain = _get_context_retriever_chain(vector_db, llm)\n",
    "\n",
    "    prompt = ChatPromptTemplate.from_messages([\n",
    "        (\"system\",\n",
    "        \"\"\"You are a helpful assistant. You will have to answer to user's queries.\n",
    "        You will have some context to help with your answers, but now always would be completely related or helpful.\n",
    "        You can also use your knowledge to assist answering the user's queries.\\n\n",
    "        {context}\"\"\"),\n",
    "        MessagesPlaceholder(variable_name=\"messages\"),\n",
    "        (\"user\", \"{input}\"),\n",
    "    ])\n",
    "    stuff_documents_chain = create_stuff_documents_chain(llm, prompt)\n",
    "\n",
    "    return create_retrieval_chain(retriever_chain, stuff_documents_chain)"
   ]
  },
  {
   "cell_type": "code",
   "execution_count": 10,
   "metadata": {},
   "outputs": [
    {
     "name": "stderr",
     "output_type": "stream",
     "text": [
      "Number of requested results 4 is greater than number of elements in index 3, updating n_results = 3\n"
     ]
    },
    {
     "name": "stdout",
     "output_type": "stream",
     "text": [
      "The latest version of Streamlit is 1.41.0, released on December 10, 2024."
     ]
    }
   ],
   "source": [
    "# Augmented Generation\n",
    "\n",
    "llm_stream_openai = ChatOpenAI(\n",
    "    model=\"gpt-4o\",  # Here you could use \"o1-preview\" or \"o1-mini\" if you already have access to them\n",
    "    temperature=0.3,\n",
    "    streaming=True,\n",
    ")\n",
    "\n",
    "llm_stream_anthropic = ChatAnthropic(\n",
    "    model=\"claude-3-5-sonnet-20240620\",\n",
    "    temperature=0.3,\n",
    "    streaming=True,\n",
    ")\n",
    "\n",
    "llm_stream = llm_stream_openai  # Select between OpenAI and Anthropic models for the response\n",
    "\n",
    "messages = [\n",
    "    {\"role\": \"user\", \"content\": \"Hi\"},\n",
    "    {\"role\": \"assistant\", \"content\": \"Hi there! How can I assist you today?\"},\n",
    "    {\"role\": \"user\", \"content\": \"What is the latest version of Streamlit?\"},\n",
    "]\n",
    "messages = [HumanMessage(content=m[\"content\"]) if m[\"role\"] == \"user\" else AIMessage(content=m[\"content\"]) for m in messages]\n",
    "\n",
    "conversation_rag_chain = get_conversational_rag_chain(llm_stream)\n",
    "response_message = \"*(RAG Response)*\\n\"\n",
    "for chunk in conversation_rag_chain.pick(\"answer\").stream({\"messages\": messages[:-1], \"input\": messages[-1].content}):\n",
    "    response_message += chunk\n",
    "    print(chunk, end=\"\", flush=True)\n",
    "\n",
    "messages.append({\"role\": \"assistant\", \"content\": response_message})"
   ]
  },
  {
   "cell_type": "code",
   "execution_count": null,
   "metadata": {},
   "outputs": [],
   "source": []
  },
  {
   "cell_type": "code",
   "execution_count": 11,
   "metadata": {},
   "outputs": [
    {
     "name": "stdout",
     "output_type": "stream",
     "text": [
      "Azure, officially known as Microsoft Azure, is a cloud computing platform and service created by Microsoft. It provides a wide range of cloud services, including those for computing, analytics, storage, and networking. Users can choose and configure these services to meet their specific needs, allowing them to build, deploy, and manage applications through Microsoft-managed data centers.\n",
      "\n",
      "Here are some key aspects of Azure:\n",
      "\n",
      "1. **Compute Services**: Azure offers virtual machines, containers, and serverless computing options. Users can run Windows and Linux virtual machines, use Azure Kubernetes Service (AKS) for container orchestration, or deploy serverless functions with Azure Functions.\n",
      "\n",
      "2. **Storage Solutions**: Azure provides scalable cloud storage options such as Blob Storage for unstructured data, Azure Files for managed file shares, and Azure Disk Storage for virtual machine disks.\n",
      "\n",
      "3. **Networking**: Azure's networking services include Virtual Networks, Load Balancers, VPN Gateways, and Azure DNS, enabling users to create secure and scalable network architectures.\n",
      "\n",
      "4. **Databases**: Azure supports various database services, including Azure SQL Database, Azure Cosmos DB (a globally distributed, multi-model database), and Azure Database for MySQL, PostgreSQL, and MariaDB.\n",
      "\n",
      "5. **AI and Machine Learning**: Azure offers AI and machine learning services like Azure Machine Learning, Cognitive Services, and Bot Services, enabling developers to build intelligent applications.\n",
      "\n",
      "6. **Analytics**: Azure provides tools for data analytics, such as Azure Synapse Analytics, Azure Data Lake, and Azure Stream Analytics, which help in processing and analyzing large volumes of data.\n",
      "\n",
      "7. **Security and Identity**: Azure includes services like Azure Active Directory, Azure Security Center, and Azure Key Vault to help protect data and manage user identities.\n",
      "\n",
      "8. **DevOps and Development Tools**: Azure supports DevOps practices with Azure DevOps services, which offer CI/CD pipelines, and integrates with popular development tools like Visual Studio and GitHub.\n",
      "\n",
      "9. **Hybrid and Multi-cloud Solutions**: Azure Arc allows users to manage and secure resources across on-premises, multi-cloud, and edge environments, providing a consistent management platform.\n",
      "\n",
      "10. **Compliance and Trust**: Azure adheres to numerous compliance standards and regulations, making it a trusted platform for businesses in various industries.\n",
      "\n",
      "Azure is widely used by businesses of all sizes to enhance their IT infrastructure, improve scalability, and reduce costs associated with on-premises hardware. Its global presence with data centers in multiple regions allows for high availability and redundancy."
     ]
    }
   ],
   "source": [
    "import os\n",
    "from langchain_openai import AzureChatOpenAI\n",
    "import dotenv\n",
    "\n",
    "dotenv.load_dotenv()\n",
    "\n",
    "llm_stream = AzureChatOpenAI(\n",
    "    azure_endpoint=os.getenv(\"AZ_OPENAI_ENDPOINT\"),\n",
    "    openai_api_version=\"2024-02-15-preview\",\n",
    "    model_name=\"gpt-4o\",\n",
    "    openai_api_key=os.getenv(\"AZ_OPENAI_API_KEY\"),\n",
    "    openai_api_type=\"azure\",\n",
    "    temperature=0.3,\n",
    "    streaming=True,\n",
    ")\n",
    "\n",
    "prompt = \"Tell me something about Azure\"\n",
    "\n",
    "for chunk in llm_stream.stream(prompt):\n",
    "    print(chunk.content, end=\"\", flush=True)"
   ]
  }
 ],
 "metadata": {
  "kernelspec": {
   "display_name": "langchain",
   "language": "python",
   "name": "python3"
  },
  "language_info": {
   "codemirror_mode": {
    "name": "ipython",
    "version": 3
   },
   "file_extension": ".py",
   "mimetype": "text/x-python",
   "name": "python",
   "nbconvert_exporter": "python",
   "pygments_lexer": "ipython3",
   "version": "3.10.0"
  }
 },
 "nbformat": 4,
 "nbformat_minor": 2
}
